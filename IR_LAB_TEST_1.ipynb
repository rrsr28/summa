{
  "nbformat": 4,
  "nbformat_minor": 0,
  "metadata": {
    "colab": {
      "provenance": [],
      "collapsed_sections": [
        "DHcGC1JWUKpH",
        "BfDfVQKeTbw5",
        "2Q4m81tqdjMT",
        "mpGZVvEecRv2"
      ]
    },
    "kernelspec": {
      "name": "python3",
      "display_name": "Python 3"
    },
    "language_info": {
      "name": "python"
    }
  },
  "cells": [
    {
      "cell_type": "code",
      "execution_count": null,
      "metadata": {
        "id": "xDRBklZNO4VH"
      },
      "outputs": [],
      "source": [
        "import numpy as np\n",
        "import pandas as pd\n",
        "import pprint\n",
        "import re\n",
        "import string\n",
        "from collections import defaultdict, Counter"
      ]
    },
    {
      "cell_type": "markdown",
      "source": [
        "# os dir"
      ],
      "metadata": {
        "id": "j7v2MJ93s_Cj"
      }
    },
    {
      "cell_type": "code",
      "source": [
        "with open('/content/doc_1.txt', 'r') as file:\n",
        "    doc1 = file.read()\n",
        "\n",
        "with open('/content/doc_2.txt','r') as file:\n",
        "    doc2 = file.read()"
      ],
      "metadata": {
        "id": "CrSploGxSEcg"
      },
      "execution_count": null,
      "outputs": []
    },
    {
      "cell_type": "markdown",
      "source": [
        "# PREPROCESSING"
      ],
      "metadata": {
        "id": "DHcGC1JWUKpH"
      }
    },
    {
      "cell_type": "code",
      "source": [
        "token_1 = doc1.lower()\n",
        "token_1 = re.sub(f\"[{re.escape(string.punctuation)}]\", \" \", token_1)\n",
        "token_1 = token_1.split()\n",
        "\n",
        "token_2 = doc2.lower()\n",
        "token_2 = re.sub(f\"[{re.escape(string.punctuation)}]\", \" \", token_2)\n",
        "token_2 = token_2.split()"
      ],
      "metadata": {
        "id": "ehRE3yyWUJy2"
      },
      "execution_count": null,
      "outputs": []
    },
    {
      "cell_type": "markdown",
      "source": [
        "# INVERTED INDEX - BOOLEAN"
      ],
      "metadata": {
        "id": "BfDfVQKeTbw5"
      }
    },
    {
      "cell_type": "code",
      "source": [
        "token_1 = sorted(token_1)\n",
        "token_2 = sorted(token_2)"
      ],
      "metadata": {
        "id": "FovIVg2_VimX"
      },
      "execution_count": null,
      "outputs": []
    },
    {
      "cell_type": "code",
      "source": [
        "terms=list(set(token_1+token_2))\n",
        "\n",
        "inverted_index={}\n",
        "for term in terms:\n",
        "  inverted_index[term]=[]\n",
        "  if term in token_1:\n",
        "    inverted_index[term].append('doc_1')\n",
        "  if term in token_2:\n",
        "    inverted_index[term].append('doc_2')\n",
        "\n",
        "pprint.pprint(inverted_index)"
      ],
      "metadata": {
        "colab": {
          "base_uri": "https://localhost:8080/"
        },
        "id": "WHRNgt0nTPWl",
        "outputId": "b013f36e-3e78-4b4a-8c00-0964b54bd0e5"
      },
      "execution_count": null,
      "outputs": [
        {
          "output_type": "stream",
          "name": "stdout",
          "text": [
            "{'a': ['doc_1', 'doc_2'],\n",
            " 'about': ['doc_2'],\n",
            " 'accurate': ['doc_2'],\n",
            " 'across': ['doc_2'],\n",
            " 'action': ['doc_1'],\n",
            " 'activity': ['doc_1'],\n",
            " 'address': ['doc_1'],\n",
            " 'adopting': ['doc_1'],\n",
            " 'adoption': ['doc_2'],\n",
            " 'ai': ['doc_2'],\n",
            " 'algorithms': ['doc_2'],\n",
            " 'allows': ['doc_2'],\n",
            " 'already': ['doc_1'],\n",
            " 'also': ['doc_1', 'doc_2'],\n",
            " 'altered': ['doc_1'],\n",
            " 'amounts': ['doc_2'],\n",
            " 'analyzing': ['doc_2'],\n",
            " 'and': ['doc_1', 'doc_2'],\n",
            " 'anomalies': ['doc_2'],\n",
            " 'are': ['doc_1', 'doc_2'],\n",
            " 'artificial': ['doc_2'],\n",
            " 'as': ['doc_1', 'doc_2'],\n",
            " 'awareness': ['doc_2'],\n",
            " 'balance': ['doc_1'],\n",
            " 'become': ['doc_2'],\n",
            " 'being': ['doc_2'],\n",
            " 'benefits': ['doc_1'],\n",
            " 'better': ['doc_2'],\n",
            " 'biodiversity': ['doc_1'],\n",
            " 'both': ['doc_1'],\n",
            " 'burning': ['doc_1'],\n",
            " 'but': ['doc_1', 'doc_2'],\n",
            " 'by': ['doc_2'],\n",
            " 'can': ['doc_2'],\n",
            " 'capability': ['doc_2'],\n",
            " 'capable': ['doc_2'],\n",
            " 'carbon': ['doc_1'],\n",
            " 'century': ['doc_1'],\n",
            " 'challenges': ['doc_1', 'doc_2'],\n",
            " 'change': ['doc_1', 'doc_2'],\n",
            " 'clean': ['doc_1'],\n",
            " 'clear': ['doc_2'],\n",
            " 'climate': ['doc_1', 'doc_2'],\n",
            " 'collaboration': ['doc_2'],\n",
            " 'combating': ['doc_1'],\n",
            " 'commitment': ['doc_1'],\n",
            " 'communities': ['doc_1'],\n",
            " 'continued': ['doc_1', 'doc_2'],\n",
            " 'contribute': ['doc_2'],\n",
            " 'cooperation': ['doc_1'],\n",
            " 'costs': ['doc_1', 'doc_2'],\n",
            " 'countries': ['doc_1'],\n",
            " 'creating': ['doc_1'],\n",
            " 'crisis': ['doc_1'],\n",
            " 'data': ['doc_2'],\n",
            " 'debate': ['doc_2'],\n",
            " 'depends': ['doc_1'],\n",
            " 'deployment': ['doc_2'],\n",
            " 'detect': ['doc_2'],\n",
            " 'diagnoses': ['doc_2'],\n",
            " 'disease': ['doc_2'],\n",
            " 'doctors': ['doc_2'],\n",
            " 'driver': ['doc_1'],\n",
            " 'economic': ['doc_1'],\n",
            " 'efficiency': ['doc_1', 'doc_2'],\n",
            " 'efficiently': ['doc_2'],\n",
            " 'electricity': ['doc_1'],\n",
            " 'emerged': ['doc_1'],\n",
            " 'emissions': ['doc_1'],\n",
            " 'emphasize': ['doc_1'],\n",
            " 'energy': ['doc_1', 'doc_2'],\n",
            " 'ensuring': ['doc_2'],\n",
            " 'environmental': ['doc_1'],\n",
            " 'error': ['doc_2'],\n",
            " 'establish': ['doc_2'],\n",
            " 'ethical': ['doc_2'],\n",
            " 'even': ['doc_2'],\n",
            " 'events': ['doc_1'],\n",
            " 'experts': ['doc_2'],\n",
            " 'extreme': ['doc_1'],\n",
            " 'farms': ['doc_1'],\n",
            " 'first': ['doc_1'],\n",
            " 'footprint': ['doc_1'],\n",
            " 'force': ['doc_2'],\n",
            " 'fossil': ['doc_1'],\n",
            " 'from': ['doc_1'],\n",
            " 'fuels': ['doc_1'],\n",
            " 'future': ['doc_2'],\n",
            " 'gases': ['doc_1'],\n",
            " 'generate': ['doc_2'],\n",
            " 'genetic': ['doc_2'],\n",
            " 'glaciers': ['doc_1'],\n",
            " 'global': ['doc_1', 'doc_2'],\n",
            " 'governments': ['doc_2'],\n",
            " 'greenhouse': ['doc_1'],\n",
            " 'growth': ['doc_1'],\n",
            " 'guidelines': ['doc_2'],\n",
            " 'harmful': ['doc_1'],\n",
            " 'has': ['doc_1', 'doc_2'],\n",
            " 'health': ['doc_2'],\n",
            " 'healthcare': ['doc_2'],\n",
            " 'helping': ['doc_1'],\n",
            " 'hospitals': ['doc_2'],\n",
            " 'however': ['doc_2'],\n",
            " 'human': ['doc_1', 'doc_2'],\n",
            " 'hydroelectric': ['doc_1'],\n",
            " 'images': ['doc_2'],\n",
            " 'impactful': ['doc_2'],\n",
            " 'improve': ['doc_1'],\n",
            " 'improving': ['doc_2'],\n",
            " 'in': ['doc_1', 'doc_2'],\n",
            " 'including': ['doc_2'],\n",
            " 'industries': ['doc_2'],\n",
            " 'industry': ['doc_2'],\n",
            " 'information': ['doc_2'],\n",
            " 'innovation': ['doc_2'],\n",
            " 'innovative': ['doc_1'],\n",
            " 'integration': ['doc_2'],\n",
            " 'intelligence': ['doc_2'],\n",
            " 'international': ['doc_1', 'doc_2'],\n",
            " 'into': ['doc_2'],\n",
            " 'investing': ['doc_1'],\n",
            " 'investment': ['doc_1', 'doc_2'],\n",
            " 'is': ['doc_1', 'doc_2'],\n",
            " 'its': ['doc_2'],\n",
            " 'jobs': ['doc_1'],\n",
            " 'just': ['doc_2'],\n",
            " 'leaders': ['doc_2'],\n",
            " 'learning': ['doc_2'],\n",
            " 'like': ['doc_2'],\n",
            " 'local': ['doc_1'],\n",
            " 'long': ['doc_2'],\n",
            " 'lowering': ['doc_2'],\n",
            " 'machine': ['doc_2'],\n",
            " 'make': ['doc_2'],\n",
            " 'may': ['doc_2'],\n",
            " 'medical': ['doc_2'],\n",
            " 'medicine': ['doc_2'],\n",
            " 'melting': ['doc_1'],\n",
            " 'models': ['doc_2'],\n",
            " 'monitor': ['doc_2'],\n",
            " 'more': ['doc_2'],\n",
            " 'most': ['doc_1'],\n",
            " 'much': ['doc_2'],\n",
            " 'must': ['doc_2'],\n",
            " 'natural': ['doc_1'],\n",
            " 'necessary': ['doc_1'],\n",
            " 'new': ['doc_1'],\n",
            " 'not': ['doc_1'],\n",
            " 'of': ['doc_1', 'doc_2'],\n",
            " 'offers': ['doc_1'],\n",
            " 'on': ['doc_1'],\n",
            " 'one': ['doc_1'],\n",
            " 'only': ['doc_1'],\n",
            " 'outbreaks': ['doc_2'],\n",
            " 'outcomes': ['doc_2'],\n",
            " 'overlook': ['doc_2'],\n",
            " 'panels': ['doc_1'],\n",
            " 'particularly': ['doc_2'],\n",
            " 'pathway': ['doc_1'],\n",
            " 'patient': ['doc_2'],\n",
            " 'patterns': ['doc_2'],\n",
            " 'people': ['doc_1'],\n",
            " 'personalized': ['doc_2'],\n",
            " 'policies': ['doc_1'],\n",
            " 'policy': ['doc_2'],\n",
            " 'potential': ['doc_2'],\n",
            " 'power': ['doc_2'],\n",
            " 'practical': ['doc_1'],\n",
            " 'practices': ['doc_1'],\n",
            " 'predict': ['doc_2'],\n",
            " 'primary': ['doc_1'],\n",
            " 'prioritize': ['doc_2'],\n",
            " 'prioritizes': ['doc_1'],\n",
            " 'privacy': ['doc_2'],\n",
            " 'progress': ['doc_2'],\n",
            " 'protect': ['doc_1'],\n",
            " 'provide': ['doc_1'],\n",
            " 'public': ['doc_2'],\n",
            " 'questions': ['doc_2'],\n",
            " 'raises': ['doc_2'],\n",
            " 'real': ['doc_2'],\n",
            " 'recommend': ['doc_2'],\n",
            " 'records': ['doc_2'],\n",
            " 'reduce': ['doc_1'],\n",
            " 'reducing': ['doc_1', 'doc_2'],\n",
            " 'releasing': ['doc_1'],\n",
            " 'remain': ['doc_1', 'doc_2'],\n",
            " 'remind': ['doc_1'],\n",
            " 'renewable': ['doc_1', 'doc_2'],\n",
            " 'requires': ['doc_1', 'doc_2'],\n",
            " 'research': ['doc_1', 'doc_2'],\n",
            " 'researchers': ['doc_2'],\n",
            " 'reshaping': ['doc_2'],\n",
            " 'resilience': ['doc_1'],\n",
            " 'responsibility': ['doc_1'],\n",
            " 'responsible': ['doc_2'],\n",
            " 'revolutionize': ['doc_2'],\n",
            " 'rising': ['doc_1'],\n",
            " 'role': ['doc_2'],\n",
            " 'rooftops': ['doc_1'],\n",
            " 'rural': ['doc_1'],\n",
            " 'scans': ['doc_2'],\n",
            " 'scientists': ['doc_1'],\n",
            " 'significant': ['doc_1'],\n",
            " 'solar': ['doc_1'],\n",
            " 'solutions': ['doc_1'],\n",
            " 'stabilize': ['doc_1'],\n",
            " 'stimulating': ['doc_1'],\n",
            " 'storage': ['doc_1'],\n",
            " 'strong': ['doc_1'],\n",
            " 'sustainability': ['doc_2'],\n",
            " 'sustainable': ['doc_1'],\n",
            " 'systems': ['doc_1', 'doc_2'],\n",
            " 'technologies': ['doc_1'],\n",
            " 'technology': ['doc_1'],\n",
            " 'temperatures': ['doc_1'],\n",
            " 'term': ['doc_2'],\n",
            " 'that': ['doc_1', 'doc_2'],\n",
            " 'the': ['doc_1', 'doc_2'],\n",
            " 'their': ['doc_1'],\n",
            " 'these': ['doc_2'],\n",
            " 'this': ['doc_1', 'doc_2'],\n",
            " 'time': ['doc_2'],\n",
            " 'to': ['doc_1', 'doc_2'],\n",
            " 'together': ['doc_2'],\n",
            " 'transformative': ['doc_2'],\n",
            " 'transitioning': ['doc_1'],\n",
            " 'transparency': ['doc_2'],\n",
            " 'treatments': ['doc_2'],\n",
            " 'trend': ['doc_1'],\n",
            " 'trust': ['doc_2'],\n",
            " 'turbines': ['doc_1'],\n",
            " 'twenty': ['doc_1'],\n",
            " 'ultimately': ['doc_1'],\n",
            " 'uncovering': ['doc_2'],\n",
            " 'urban': ['doc_1'],\n",
            " 'urgent': ['doc_1'],\n",
            " 'us': ['doc_1'],\n",
            " 'use': ['doc_2'],\n",
            " 'vast': ['doc_2'],\n",
            " 'warming': ['doc_1'],\n",
            " 'ways': ['doc_2'],\n",
            " 'weather': ['doc_1'],\n",
            " 'well': ['doc_2'],\n",
            " 'while': ['doc_2'],\n",
            " 'wind': ['doc_1'],\n",
            " 'with': ['doc_2'],\n",
            " 'without': ['doc_1'],\n",
            " 'witnessing': ['doc_1'],\n",
            " 'work': ['doc_2']}\n"
          ]
        }
      ]
    },
    {
      "cell_type": "code",
      "source": [
        "freq = Counter(terms)\n",
        "stop_words = set([w for w, _ in freq.most_common(10)])\n",
        "for sw in stop_words:\n",
        "    inverted_index.pop(sw, None)"
      ],
      "metadata": {
        "id": "i5YDVdQWVcOF"
      },
      "execution_count": null,
      "outputs": []
    },
    {
      "cell_type": "code",
      "source": [
        "pprint.pprint(stop_words)"
      ],
      "metadata": {
        "colab": {
          "base_uri": "https://localhost:8080/"
        },
        "id": "L2rqqKiwW31C",
        "outputId": "d3ec193d-e010-44f4-f853-6315cbfb249d"
      },
      "execution_count": null,
      "outputs": [
        {
          "output_type": "stream",
          "name": "stdout",
          "text": [
            "{'analyzing',\n",
            " 'ensuring',\n",
            " 'experts',\n",
            " 'footprint',\n",
            " 'rising',\n",
            " 'scientists',\n",
            " 'to',\n",
            " 'use',\n",
            " 'vast',\n",
            " 'ways'}\n"
          ]
        }
      ]
    },
    {
      "cell_type": "code",
      "source": [
        "print(len(inverted_index))"
      ],
      "metadata": {
        "colab": {
          "base_uri": "https://localhost:8080/"
        },
        "id": "7ZYnh8upXMPY",
        "outputId": "05477c55-208b-4476-e364-f9b2e8e33961"
      },
      "execution_count": null,
      "outputs": [
        {
          "output_type": "stream",
          "name": "stdout",
          "text": [
            "241\n"
          ]
        }
      ]
    },
    {
      "cell_type": "code",
      "source": [
        "def boolean_retrieve(term, index, docs):\n",
        "    if term not in index:\n",
        "        return set()\n",
        "    return set(index[term])"
      ],
      "metadata": {
        "id": "5s0wyT1tcGea"
      },
      "execution_count": null,
      "outputs": []
    },
    {
      "cell_type": "code",
      "source": [
        "\n",
        "def eval_query(tokens, index, docs):\n",
        "    stack = []\n",
        "\n",
        "    def apply_operator(op):\n",
        "        if op == \"NOT\":\n",
        "            right = stack.pop()\n",
        "            stack.append(docs - right)\n",
        "        else:\n",
        "            right = stack.pop()\n",
        "            left = stack.pop()\n",
        "            if op == \"AND\":\n",
        "                stack.append(left & right)\n",
        "            elif op == \"OR\":\n",
        "                stack.append(left | right)\n",
        "\n",
        "    precedence = {\"NOT\": 3, \"AND\": 2, \"OR\": 1}\n",
        "    output = []\n",
        "    ops = []\n",
        "\n",
        "    # Shunting-yard algorithm for parentheses and precedence\n",
        "    for token in tokens:\n",
        "        if token not in precedence and token not in (\"(\", \")\"):\n",
        "            output.append(token)\n",
        "        elif token in precedence:\n",
        "            while ops and ops[-1] in precedence and precedence[ops[-1]] >= precedence[token]:\n",
        "                output.append(ops.pop())\n",
        "            ops.append(token)\n",
        "        elif token == \"(\":\n",
        "            ops.append(token)\n",
        "        elif token == \")\":\n",
        "            while ops and ops[-1] != \"(\":\n",
        "                output.append(ops.pop())\n",
        "            ops.pop()\n",
        "\n",
        "    while ops:\n",
        "        output.append(ops.pop())\n",
        "\n",
        "    # Evaluate postfix expression\n",
        "    for token in output:\n",
        "        if token not in precedence:\n",
        "            stack.append(boolean_retrieve(token.lower(), index, docs))\n",
        "        else:\n",
        "            apply_operator(token)\n",
        "\n",
        "    return stack[-1] if stack else set()\n",
        "\n",
        "def boolean_query(query, index, docs):\n",
        "    tokens = query.upper().replace(\"(\", \" ( \").replace(\")\", \" ) \").split()\n",
        "    return eval_query(tokens, index, set(docs.keys()))\n",
        "\n",
        "documents = { 'doc_1': doc1 , 'doc_2':doc2}\n",
        "print(\"\\nQuery Results:\")\n",
        "print(\"energy AND renewable ->\", boolean_query(\"energy AND renewable\", inverted_index, documents))\n",
        "print(\"artificial OR climate ->\", boolean_query(\"artificial OR climate\", inverted_index, documents))\n",
        "print(\"NOT energy ->\", boolean_query(\"NOTenergy\", inverted_index, documents))\n",
        "print(\"(renewable AND artificial) OR innovation ->\", boolean_query(\"(renewable AND artificial) OR innovation\", inverted_index, documents))\n",
        "print(\"renewable AND NOT climate ->\", boolean_query(\"renewable AND NOT climate\", inverted_index, documents))"
      ],
      "metadata": {
        "colab": {
          "base_uri": "https://localhost:8080/"
        },
        "id": "CqQl_uaEXQqz",
        "outputId": "ab09ad87-79ee-440b-ee4d-2322ed1d3f0c"
      },
      "execution_count": null,
      "outputs": [
        {
          "output_type": "stream",
          "name": "stdout",
          "text": [
            "\n",
            "Query Results:\n",
            "energy AND renewable -> {'doc_2', 'doc_1'}\n",
            "artificial OR climate -> {'doc_2', 'doc_1'}\n",
            "NOT energy -> set()\n",
            "(renewable AND artificial) OR innovation -> {'doc_2'}\n",
            "renewable AND NOT climate -> set()\n"
          ]
        }
      ]
    },
    {
      "cell_type": "markdown",
      "source": [
        "# EXERCISE 2"
      ],
      "metadata": {
        "id": "2Q4m81tqdjMT"
      }
    },
    {
      "cell_type": "code",
      "source": [
        "pip install rank_bm25"
      ],
      "metadata": {
        "colab": {
          "base_uri": "https://localhost:8080/"
        },
        "id": "bfRFVQyWehZ8",
        "outputId": "2ba18d09-bf6c-44fb-ef4c-75ca7c103529"
      },
      "execution_count": null,
      "outputs": [
        {
          "output_type": "stream",
          "name": "stdout",
          "text": [
            "Collecting rank_bm25\n",
            "  Downloading rank_bm25-0.2.2-py3-none-any.whl.metadata (3.2 kB)\n",
            "Requirement already satisfied: numpy in /usr/local/lib/python3.12/dist-packages (from rank_bm25) (2.0.2)\n",
            "Downloading rank_bm25-0.2.2-py3-none-any.whl (8.6 kB)\n",
            "Installing collected packages: rank_bm25\n",
            "Successfully installed rank_bm25-0.2.2\n"
          ]
        }
      ]
    },
    {
      "cell_type": "code",
      "source": [
        "from sklearn.feature_extraction.text import TfidfVectorizer\n",
        "from sklearn.metrics.pairwise import cosine_similarity\n",
        "from rank_bm25 import BM25Okapi\n",
        "import nltk\n",
        "from nltk.util import ngrams\n",
        "\n",
        "# Sample dataset\n",
        "docs = {\n",
        "    \"D1\": \"Information requirement: query considers the user feedback as information requirement to search.\",\n",
        "    \"D2\": \"Information retrieval: query depends on the model of information retrieval used.\",\n",
        "    \"D3\": \"Prediction problem: Many problems in information retrieval can be viewed as prediction problems\",\n",
        "    \"D4\": \"Search: A search engine is one of applications of information retrieval models.\"\n",
        "}\n",
        "\n",
        "new_docs = {\n",
        "    \"D5\": \"Feedback: feedback is typically used by the system to modify the query and improve prediction\",\n",
        "    \"D6\": \"information retrieval: ranking in information retrieval algorithms depends on user query\"\n",
        "}\n",
        "\n",
        "# Parameters\n",
        "ALPHA = 0.85  # Cosine / Jaccard similarity threshold\n",
        "K = 3         # Shingle size for Jaccard\n",
        "\n",
        "# --- Helper Functions ---\n",
        "def binary_distance(u, v):\n",
        "    return 0 if u.strip().lower() == v.strip().lower() else 1\n",
        "\n",
        "def jaccard_similarity(doc1, doc2, k=3):\n",
        "    shingles1 = set(ngrams(doc1.lower().split(), k))\n",
        "    shingles2 = set(ngrams(doc2.lower().split(), k))\n",
        "    if not shingles1 or not shingles2:\n",
        "        return 0.0\n",
        "    return len(shingles1 & shingles2) / len(shingles1 | shingles2)\n",
        "\n",
        "# --- TF-IDF + Cosine Similarity ---\n",
        "vectorizer = TfidfVectorizer()\n",
        "all_docs = list(docs.values()) + list(new_docs.values())\n",
        "tfidf_matrix = vectorizer.fit_transform(all_docs)\n",
        "\n",
        "# Split old/new\n",
        "old_matrix = tfidf_matrix[:len(docs)]\n",
        "new_matrix = tfidf_matrix[len(docs):]\n",
        "\n",
        "# --- BM25 ---\n",
        "tokenized_corpus = [d.lower().split() for d in docs.values()]\n",
        "bm25 = BM25Okapi(tokenized_corpus)\n",
        "\n",
        "results = []\n",
        "for i, (nid, ntext) in enumerate(new_docs.items()):\n",
        "    # Step A: Title match (binary distance)\n",
        "    for oid, otext in docs.items():\n",
        "        if binary_distance(ntext.split(':')[0], otext.split(':')[0]) == 0:\n",
        "            results.append((nid, \"DUPLICATE\", oid, \"Title Match\"))\n",
        "            break\n",
        "    else:\n",
        "        # Step B/C: Cosine Similarity\n",
        "        cos_sims = cosine_similarity(new_matrix[i], old_matrix)[0]\n",
        "        best_idx = cos_sims.argmax()\n",
        "        best_cos = cos_sims[best_idx]\n",
        "\n",
        "        # Step D: Jaccard Similarity\n",
        "        jac_sims = [jaccard_similarity(ntext, otext, K) for otext in docs.values()]\n",
        "        best_jac = max(jac_sims)\n",
        "        best_jac_id = list(docs.keys())[jac_sims.index(best_jac)]\n",
        "\n",
        "        # Step E: BM25\n",
        "        bm25_scores = bm25.get_scores(ntext.lower().split())\n",
        "        best_bm25 = max(bm25_scores)\n",
        "        best_bm25_id = list(docs.keys())[bm25_scores.argmax()]\n",
        "\n",
        "        # Decision (Cosine/Jaccard > α OR BM25 very high → duplicate)\n",
        "        if best_cos >= ALPHA:\n",
        "            results.append((nid, \"DUPLICATE\", list(docs.keys())[best_idx], f\"Cosine={best_cos:.3f}\"))\n",
        "        elif best_jac >= ALPHA:\n",
        "            results.append((nid, \"DUPLICATE\", best_jac_id, f\"Jaccard={best_jac:.3f}\"))\n",
        "        elif best_bm25 > 3:  # arbitrary threshold for BM25\n",
        "            results.append((nid, \"DUPLICATE\", best_bm25_id, f\"BM25={best_bm25:.3f}\"))\n",
        "        else:\n",
        "            results.append((nid, \"UNIQUE\", None, f\"Cosine={best_cos:.3f}, Jaccard={best_jac:.3f}, BM25={best_bm25:.3f}\"))\n",
        "\n",
        "# Display results\n",
        "import pandas as pd\n",
        "df = pd.DataFrame(results, columns=[\"NewDoc\", \"Decision\", \"MatchedDoc\", \"Reason\"])\n",
        "print(df)\n"
      ],
      "metadata": {
        "colab": {
          "base_uri": "https://localhost:8080/"
        },
        "id": "_8SK_pzSdk5E",
        "outputId": "f4f428d4-93a0-4f42-cb14-8606d6866b5a"
      },
      "execution_count": null,
      "outputs": [
        {
          "output_type": "stream",
          "name": "stdout",
          "text": [
            "  NewDoc   Decision MatchedDoc                                   Reason\n",
            "0     D5     UNIQUE       None  Cosine=0.281, Jaccard=0.000, BM25=1.695\n",
            "1     D6  DUPLICATE         D2                              Title Match\n"
          ]
        }
      ]
    },
    {
      "cell_type": "markdown",
      "source": [
        "# BIM"
      ],
      "metadata": {
        "id": "mpGZVvEecRv2"
      }
    },
    {
      "cell_type": "code",
      "source": [
        "import numpy as np\n",
        "from sklearn.feature_extraction.text import CountVectorizer\n",
        "from sklearn.metrics.pairwise import cosine_similarity\n",
        "\n",
        "# --- Step 1: Documents and Query ---\n",
        "docs = [\n",
        "    \"information requirement query considers user feedback\",\n",
        "    \"information retrieval query depends on retrieval model\",\n",
        "    \"prediction problem many problems in retrieval as prediction\",\n",
        "    \"search engine one application of retrieval models\",\n",
        "    \"feedback improves query prediction\"\n",
        "]\n",
        "query = \"feedback improves query prediction\"\n",
        "\n",
        "# --- Step 2: Build term-document frequency matrix ---\n",
        "vectorizer = CountVectorizer()\n",
        "X = vectorizer.fit_transform(docs).toarray()\n",
        "terms = vectorizer.get_feature_names_out()\n",
        "q_vec = vectorizer.transform([query]).toarray()\n",
        "\n",
        "N = len(docs)  # total docs\n",
        "df = np.sum(X > 0, axis=0)  # number of docs each term appears in\n",
        "\n",
        "# --- Stage 1: BIM without relevance info ---\n",
        "trk = np.log((N - df) / (df + 1e-10))  # weights\n",
        "\n",
        "# Weighting\n",
        "X_weighted = X * trk\n",
        "q_weighted = q_vec * trk\n",
        "\n",
        "# Cosine similarity\n",
        "similarities = cosine_similarity(q_weighted, X_weighted)[0]\n",
        "ranked_indices = np.argsort(-similarities)\n",
        "\n",
        "print(\"Stage 1 Ranking (no relevance info):\")\n",
        "for rank, idx in enumerate(ranked_indices, 1):\n",
        "    print(f\"Rank {rank}: D{idx+1} (score={similarities[idx]:.3f})\")\n",
        "\n",
        "# --- Stage 2: Apply BIM with relevance info on top-2 ranked docs ---\n",
        "top_docs_idx = ranked_indices[:2]  # take top 2 documents\n",
        "R = len(top_docs_idx)              # number of relevant docs considered\n",
        "\n",
        "# Count rk = number of relevant docs containing term\n",
        "rk = np.sum(X[top_docs_idx, :] > 0, axis=0)\n",
        "\n",
        "# Formula: w_k = log( (rk + 0.5) / (R - rk + 0.5) ) - log( (df - rk + 0.5) / (N - df - R + rk + 0.5) )\n",
        "wk = np.log((rk + 0.5) / (R - rk + 0.5)) - np.log((df - rk + 0.5) / (N - df - R + rk + 0.5))\n",
        "\n",
        "# Reweight docs and query\n",
        "X_rel_weighted = X * wk\n",
        "q_rel_weighted = q_vec * wk\n",
        "\n",
        "# Cosine similarity again\n",
        "similarities_rel = cosine_similarity(q_rel_weighted, X_rel_weighted)[0]\n",
        "ranked_indices_rel = np.argsort(-similarities_rel)\n",
        "\n",
        "print(\"\\nStage 2 Ranking (with relevance info from top-2 docs):\")\n",
        "for rank, idx in enumerate(ranked_indices_rel, 1):\n",
        "    print(f\"Rank {rank}: D{idx+1} (score={similarities_rel[idx]:.3f})\")\n"
      ],
      "metadata": {
        "colab": {
          "base_uri": "https://localhost:8080/"
        },
        "id": "lJr7FSwvcUCR",
        "outputId": "e5efe52e-4c08-40f3-c3d1-0e901aa2be5c"
      },
      "execution_count": null,
      "outputs": [
        {
          "output_type": "stream",
          "name": "stdout",
          "text": [
            "Stage 1 Ranking (no relevance info):\n",
            "Rank 1: D5 (score=1.000)\n",
            "Rank 2: D1 (score=0.085)\n",
            "Rank 3: D3 (score=0.066)\n",
            "Rank 4: D2 (score=0.041)\n",
            "Rank 5: D4 (score=0.000)\n",
            "\n",
            "Stage 2 Ranking (with relevance info from top-2 docs):\n",
            "Rank 1: D5 (score=1.000)\n",
            "Rank 2: D1 (score=0.694)\n",
            "Rank 3: D2 (score=0.127)\n",
            "Rank 4: D3 (score=0.026)\n",
            "Rank 5: D4 (score=0.000)\n"
          ]
        }
      ]
    },
    {
      "cell_type": "markdown",
      "source": [
        "# VSM"
      ],
      "metadata": {
        "id": "9d7YuBw1mdvp"
      }
    },
    {
      "cell_type": "code",
      "source": [
        "import numpy as np\n",
        "from sklearn.feature_extraction.text import CountVectorizer, TfidfVectorizer\n",
        "from sklearn.metrics.pairwise import cosine_similarity\n",
        "\n",
        "# --- Step 1: Define documents and query ---\n",
        "docs = [\n",
        "    \"information requirement query considers user feedback\",\n",
        "    \"information retrieval query depends on retrieval model\",\n",
        "    \"prediction problem many problems in retrieval as prediction\",\n",
        "    \"search engine one application of retrieval models\",\n",
        "]\n",
        "\n",
        "query = \"feedback improves query prediction\"\n",
        "\n",
        "# --- Step 2: Construct term-document frequency matrix ---\n",
        "count_vectorizer = CountVectorizer()\n",
        "X = count_vectorizer.fit_transform(docs)\n",
        "terms = count_vectorizer.get_feature_names_out()\n",
        "\n",
        "print(\"Term-Document Frequency Matrix:\")\n",
        "print(X.toarray())\n",
        "print(\"Terms:\", terms)\n",
        "\n",
        "# --- Step 3: Represent query as vector (same vocabulary) ---\n",
        "q_vector = count_vectorizer.transform([query])\n",
        "\n",
        "print(\"\\nQuery Vector (count representation):\")\n",
        "print(q_vector.toarray())\n",
        "\n",
        "# --- Step 4: Use TF-IDF for normalization ---\n",
        "tfidf_vectorizer = TfidfVectorizer()\n",
        "tfidf_docs = tfidf_vectorizer.fit_transform(docs)\n",
        "tfidf_query = tfidf_vectorizer.transform([query])\n",
        "\n",
        "print(\"\\nTF-IDF Matrix for Documents:\")\n",
        "print(tfidf_docs.toarray())\n",
        "print(\"TF-IDF Query Vector:\", tfidf_query.toarray())\n",
        "\n",
        "# --- Step 5: Cosine similarity ---\n",
        "cosine_scores = cosine_similarity(tfidf_query, tfidf_docs).flatten()\n",
        "\n",
        "print(\"\\nCosine Similarity Scores:\")\n",
        "for i, score in enumerate(cosine_scores, start=1):\n",
        "    print(f\"D{i}: {score:.4f}\")\n",
        "\n",
        "# --- Step 6: Rank the documents ---\n",
        "ranked_docs = np.argsort(-cosine_scores)  # descending order\n",
        "print(\"\\nRanking of Documents:\")\n",
        "for rank, idx in enumerate(ranked_docs, start=1):\n",
        "    print(f\"Rank {rank}: D{idx+1} (score={cosine_scores[idx]:.4f})\")\n"
      ],
      "metadata": {
        "colab": {
          "base_uri": "https://localhost:8080/"
        },
        "id": "ovR4of_1mfM1",
        "outputId": "2a73cbf6-46ea-4714-8f2c-e360e34336f8"
      },
      "execution_count": null,
      "outputs": [
        {
          "output_type": "stream",
          "name": "stdout",
          "text": [
            "Term-Document Frequency Matrix:\n",
            "[[0 0 1 0 0 1 0 1 0 0 0 0 0 0 0 0 0 1 1 0 0 1]\n",
            " [0 0 0 1 0 0 0 1 0 1 0 0 1 0 0 0 0 1 0 2 0 0]\n",
            " [0 1 0 0 0 0 1 0 1 0 0 0 0 0 2 1 1 0 0 1 0 0]\n",
            " [1 0 0 0 1 0 0 0 0 0 1 1 0 1 0 0 0 0 0 1 1 0]]\n",
            "Terms: ['application' 'as' 'considers' 'depends' 'engine' 'feedback' 'in'\n",
            " 'information' 'many' 'model' 'models' 'of' 'on' 'one' 'prediction'\n",
            " 'problem' 'problems' 'query' 'requirement' 'retrieval' 'search' 'user']\n",
            "\n",
            "Query Vector (count representation):\n",
            "[[0 0 0 0 0 1 0 0 0 0 0 0 0 0 1 0 0 1 0 0 0 0]]\n",
            "\n",
            "TF-IDF Matrix for Documents:\n",
            "[[0.         0.         0.43671931 0.         0.         0.43671931\n",
            "  0.         0.34431452 0.         0.         0.         0.\n",
            "  0.         0.         0.         0.         0.         0.34431452\n",
            "  0.43671931 0.         0.         0.43671931]\n",
            " [0.         0.         0.         0.41264483 0.         0.\n",
            "  0.         0.32533392 0.         0.41264483 0.         0.\n",
            "  0.41264483 0.         0.         0.         0.         0.32533392\n",
            "  0.         0.5267717  0.         0.        ]\n",
            " [0.         0.32603555 0.         0.         0.         0.\n",
            "  0.32603555 0.         0.32603555 0.         0.         0.\n",
            "  0.         0.         0.6520711  0.32603555 0.32603555 0.\n",
            "  0.         0.20810427 0.         0.        ]\n",
            " [0.39505606 0.         0.         0.         0.39505606 0.\n",
            "  0.         0.         0.         0.         0.39505606 0.39505606\n",
            "  0.         0.39505606 0.         0.         0.         0.\n",
            "  0.         0.25215917 0.39505606 0.        ]]\n",
            "TF-IDF Query Vector: [[0.         0.         0.         0.         0.         0.61761437\n",
            "  0.         0.         0.         0.         0.         0.\n",
            "  0.         0.         0.61761437 0.         0.         0.48693426\n",
            "  0.         0.         0.         0.        ]]\n",
            "\n",
            "Cosine Similarity Scores:\n",
            "D1: 0.4374\n",
            "D2: 0.1584\n",
            "D3: 0.4027\n",
            "D4: 0.0000\n",
            "\n",
            "Ranking of Documents:\n",
            "Rank 1: D1 (score=0.4374)\n",
            "Rank 2: D3 (score=0.4027)\n",
            "Rank 3: D2 (score=0.1584)\n",
            "Rank 4: D4 (score=0.0000)\n"
          ]
        }
      ]
    },
    {
      "cell_type": "markdown",
      "source": [
        "# EVALUATION METRICS"
      ],
      "metadata": {
        "id": "gpajL_aznBPv"
      }
    },
    {
      "cell_type": "code",
      "source": [
        "import numpy as np\n",
        "import matplotlib.pyplot as plt\n",
        "from sklearn.metrics import precision_score, recall_score, f1_score, precision_recall_curve, average_precision_score, ndcg_score\n",
        "\n",
        "# -----------------------------\n",
        "# Example data\n",
        "# -----------------------------\n",
        "# Ground truth relevance (1 = relevant, 0 = not relevant)\n",
        "y_true = np.array([1, 0, 1, 1, 0, 0, 1, 0, 1, 0])\n",
        "\n",
        "# Predicted relevance scores (from retrieval system)\n",
        "y_scores = np.array([0.95, 0.6, 0.9, 0.85, 0.4, 0.3, 0.8, 0.2, 0.7, 0.1])\n",
        "\n",
        "# Sort by predicted score (ranked retrieval)\n",
        "sorted_idx = np.argsort(y_scores)[::-1]\n",
        "y_true_sorted = y_true[sorted_idx]\n",
        "y_scores_sorted = y_scores[sorted_idx]\n",
        "\n",
        "# -----------------------------\n",
        "# Unranked / Set-based Retrieval\n",
        "# -----------------------------\n",
        "y_pred_binary = (y_scores >= 0.5).astype(int)\n",
        "\n",
        "precision = precision_score(y_true, y_pred_binary)\n",
        "recall = recall_score(y_true, y_pred_binary)\n",
        "f1 = f1_score(y_true, y_pred_binary)\n",
        "\n",
        "print(\"Unranked Retrieval Metrics\")\n",
        "print(\"Precision:\", precision)\n",
        "print(\"Recall:\", recall)\n",
        "print(\"F1 Score:\", f1, \"\\n\")\n",
        "\n",
        "# -----------------------------\n",
        "# Ranked Retrieval\n",
        "# -----------------------------\n",
        "def precision_at_k(y_true, k):\n",
        "    return np.mean(y_true[:k])\n",
        "\n",
        "def r_precision(y_true):\n",
        "    R = np.sum(y_true)  # total relevant\n",
        "    return np.mean(y_true[:R])\n",
        "\n",
        "def mean_reciprocal_rank(y_true):\n",
        "    for i, val in enumerate(y_true, start=1):\n",
        "        if val == 1:\n",
        "            return 1.0 / i\n",
        "    return 0.0\n",
        "\n",
        "def average_precision(y_true):\n",
        "    precisions = []\n",
        "    rel_count = 0\n",
        "    for i, val in enumerate(y_true, start=1):\n",
        "        if val == 1:\n",
        "            rel_count += 1\n",
        "            precisions.append(rel_count / i)\n",
        "    return np.mean(precisions) if precisions else 0.0\n",
        "\n",
        "# Precision@k\n",
        "print(\"Ranked Retrieval Metrics\")\n",
        "print(\"Precision@3:\", precision_at_k(y_true_sorted, 3))\n",
        "print(\"R-Precision:\", r_precision(y_true_sorted))\n",
        "print(\"MRR:\", mean_reciprocal_rank(y_true_sorted))\n",
        "print(\"MAP:\", average_precision(y_true_sorted))\n",
        "\n",
        "# -----------------------------\n",
        "# PR Graph (built-in sklearn)\n",
        "# -----------------------------\n",
        "precisions, recalls, thresholds = precision_recall_curve(y_true, y_scores)\n",
        "ap = average_precision_score(y_true, y_scores)\n",
        "\n",
        "plt.figure(figsize=(6, 5))\n",
        "plt.plot(recalls, precisions, marker='.')\n",
        "plt.title(f'Precision-Recall Curve (AP={ap:.2f})')\n",
        "plt.xlabel(\"Recall\")\n",
        "plt.ylabel(\"Precision\")\n",
        "plt.grid(True)\n",
        "plt.show()\n",
        "\n",
        "# -----------------------------\n",
        "# Graded Relevance (nDCG)\n",
        "# -----------------------------\n",
        "# Assume graded relevance (0 = not relevant, 3 = highly relevant)\n",
        "y_true_graded = np.array([[3, 0, 2, 2, 0, 0, 1, 0, 2, 0]])\n",
        "y_scores_graded = np.array([[0.95, 0.6, 0.9, 0.85, 0.4, 0.3, 0.8, 0.2, 0.7, 0.1]])\n",
        "\n",
        "ndcg = ndcg_score(y_true_graded, y_scores_graded, k=5)\n",
        "print(\"\\nGraded Relevance Metric\")\n",
        "print(\"nDCG@5:\", ndcg)\n",
        "\n",
        "# Plot nDCG Curve\n",
        "ks = [1, 3, 5, 10]\n",
        "ndcgs = [ndcg_score(y_true_graded, y_scores_graded, k=k) for k in ks]\n",
        "\n",
        "plt.figure(figsize=(6, 5))\n",
        "plt.plot(ks, ndcgs, marker='o')\n",
        "plt.title(\"nDCG Curve\")\n",
        "plt.xlabel(\"k\")\n",
        "plt.ylabel(\"nDCG\")\n",
        "plt.grid(True)\n",
        "plt.show()\n"
      ],
      "metadata": {
        "colab": {
          "base_uri": "https://localhost:8080/",
          "height": 1000
        },
        "id": "TFYXubSbmzoW",
        "outputId": "db916eac-e5cc-4113-d19c-e6d4ef7b958a"
      },
      "execution_count": null,
      "outputs": [
        {
          "output_type": "stream",
          "name": "stdout",
          "text": [
            "Unranked Retrieval Metrics\n",
            "Precision: 0.8333333333333334\n",
            "Recall: 1.0\n",
            "F1 Score: 0.9090909090909091 \n",
            "\n",
            "Ranked Retrieval Metrics\n",
            "Precision@3: 1.0\n",
            "R-Precision: 1.0\n",
            "MRR: 1.0\n",
            "MAP: 1.0\n"
          ]
        },
        {
          "output_type": "display_data",
          "data": {
            "text/plain": [
              "<Figure size 600x500 with 1 Axes>"
            ],
            "image/png": "[encoded data removed]"
          },
          "metadata": {}
        },
        {
          "output_type": "stream",
          "name": "stdout",
          "text": [
            "\n",
            "Graded Relevance Metric\n",
            "nDCG@5: 0.9932683086972719\n"
          ]
        },
        {
          "output_type": "display_data",
          "data": {
            "text/plain": [
              "<Figure size 600x500 with 1 Axes>"
            ],
            "image/png": "[encoded data removed]"
          },
          "metadata": {}
        }
      ]
    }
  ]
}